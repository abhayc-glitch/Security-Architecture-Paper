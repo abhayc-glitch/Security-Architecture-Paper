{
 "cells": [
  {
   "cell_type": "code",
   "execution_count": 19,
   "metadata": {},
   "outputs": [
    {
     "name": "stdout",
     "output_type": "stream",
     "text": [
      "2.10.0\n"
     ]
    }
   ],
   "source": [
    "import tensorflow as tf\n",
    "\n",
    "import matplotlib.pyplot as plt\n",
    "import numpy as np\n",
    "import os\n",
    "import PIL\n",
    "import pandas as pd\n",
    "\n",
    "from tensorflow import keras\n",
    "from tensorflow.keras import layers\n",
    "from tensorflow.keras.models import Sequential\n",
    "from tensorflow.keras.layers import TextVectorization\n",
    "\n",
    "from sklearn.preprocessing import StandardScaler\n",
    "from sklearn.preprocessing import LabelEncoder\n",
    "from sklearn.preprocessing import OneHotEncoder\n",
    "from sklearn.model_selection import train_test_split\n",
    "\n",
    "from sklearn.decomposition import PCA\n",
    "\n",
    "print(tf.__version__)\n"
   ]
  },
  {
   "cell_type": "code",
   "execution_count": 20,
   "metadata": {},
   "outputs": [
    {
     "name": "stdout",
     "output_type": "stream",
     "text": [
      "(100000, 34)\n"
     ]
    }
   ],
   "source": [
    "\n",
    "# Load the data into a pandas dataframe\n",
    "data_path = \"../data/malware_dataset.csv\"\n",
    "data = pd.read_csv(data_path)\n",
    "\n",
    "# Convert classification column from string values into numerical values\n",
    "# 0 - malware , 1 - benign\n",
    "le = LabelEncoder()\n",
    "data[\"classification\"] = le.fit_transform(data[\"classification\"])\n",
    "\n",
    "# Drop the classification from input data and pass it in as output\n",
    "features = data.drop(columns=[\"classification\"])\n",
    "\n",
    "print(features.shape)\n",
    "\n",
    "# Perform PCA to reduce dimensionaliy\n",
    "# ty\n",
    "pca = PCA(n_components=34)\n",
    "features = pca.fit_transform(features)\n",
    "\n",
    "# Normalize features\n",
    "# Mean of 0 and Standard deviation of 1 to highlight large features\n",
    "scaler = StandardScaler()\n",
    "features = scaler.fit_transform(features)\n",
    "\n",
    "# Split into training and testing sets\n",
    "train_data, test_data, train_labels, test_labels = train_test_split(\n",
    "    features, data[\"classification\"], test_size=0.2, random_state=42)\n",
    "\n",
    "\n",
    "enc = OneHotEncoder()\n",
    "train_labels = enc.fit_transform(train_labels.values.reshape(-1, 1)).toarray()\n",
    "test_labels = enc.transform(test_labels.values.reshape(-1, 1)).toarray()\n"
   ]
  },
  {
   "cell_type": "code",
   "execution_count": 21,
   "metadata": {},
   "outputs": [
    {
     "name": "stdout",
     "output_type": "stream",
     "text": [
      "Model: \"model_2\"\n",
      "_________________________________________________________________\n",
      " Layer (type)                Output Shape              Param #   \n",
      "=================================================================\n",
      " input_3 (InputLayer)        [(None, 34)]              0         \n",
      "                                                                 \n",
      " dense_20 (Dense)            (None, 64)                2240      \n",
      "                                                                 \n",
      " dense_21 (Dense)            (None, 32)                2080      \n",
      "                                                                 \n",
      " dense_22 (Dense)            (None, 32)                1056      \n",
      "                                                                 \n",
      " dense_23 (Dense)            (None, 32)                1056      \n",
      "                                                                 \n",
      " dense_24 (Dense)            (None, 64)                2112      \n",
      "                                                                 \n",
      " dense_25 (Dense)            (None, 34)                2210      \n",
      "                                                                 \n",
      "=================================================================\n",
      "Total params: 10,754\n",
      "Trainable params: 10,754\n",
      "Non-trainable params: 0\n",
      "_________________________________________________________________\n"
     ]
    }
   ],
   "source": [
    "# PCA \"n_components\" output\n",
    "input_dim = 34\n",
    "\n",
    "input_layer = tf.keras.layers.Input(shape=(input_dim,))\n",
    "encoder = tf.keras.layers.Dense(64, activation='relu')(input_layer)\n",
    "encoder = tf.keras.layers.Dense(32, activation='relu')(encoder)\n",
    "encoder = tf.keras.layers.Dense(32, activation='relu')(encoder)\n",
    "\n",
    "# Build decoder network\n",
    "decoder = tf.keras.layers.Dense(32, activation='relu')(encoder)\n",
    "decoder = tf.keras.layers.Dense(64, activation='relu')(decoder)\n",
    "decoder = tf.keras.layers.Dense(input_dim, activation='linear')(decoder)\n",
    "\n",
    "# Combine encoder and decoder into autoencoder\n",
    "autoencoder = tf.keras.models.Model(inputs=input_layer, outputs=decoder)\n",
    "\n",
    "autoencoder.summary()\n"
   ]
  },
  {
   "cell_type": "code",
   "execution_count": 22,
   "metadata": {},
   "outputs": [
    {
     "name": "stdout",
     "output_type": "stream",
     "text": [
      "Epoch 1/10\n",
      "625/625 [==============================] - 1s 776us/step - loss: 0.7875 - accuracy: 0.4162\n",
      "Epoch 2/10\n",
      "625/625 [==============================] - 0s 731us/step - loss: 0.5632 - accuracy: 0.6726\n",
      "Epoch 3/10\n",
      "625/625 [==============================] - 0s 764us/step - loss: 0.4992 - accuracy: 0.7712\n",
      "Epoch 4/10\n",
      "625/625 [==============================] - 0s 741us/step - loss: 0.4553 - accuracy: 0.8193\n",
      "Epoch 5/10\n",
      "625/625 [==============================] - 1s 846us/step - loss: 0.4231 - accuracy: 0.8327\n",
      "Epoch 6/10\n",
      "625/625 [==============================] - 0s 766us/step - loss: 0.4004 - accuracy: 0.8464\n",
      "Epoch 7/10\n",
      "625/625 [==============================] - 0s 727us/step - loss: 0.3713 - accuracy: 0.8572\n",
      "Epoch 8/10\n",
      "625/625 [==============================] - 0s 723us/step - loss: 0.3388 - accuracy: 0.8755\n",
      "Epoch 9/10\n",
      "625/625 [==============================] - 0s 735us/step - loss: 0.3016 - accuracy: 0.8699\n",
      "Epoch 10/10\n",
      "625/625 [==============================] - 0s 772us/step - loss: 0.2747 - accuracy: 0.8841\n"
     ]
    }
   ],
   "source": [
    "autoencoder.compile(optimizer='adam', loss='mse', metrics=['accuracy'])\n",
    "history = autoencoder.fit(train_data, train_data, epochs=10,\n",
    "                batch_size=128, verbose=1)"
   ]
  },
  {
   "cell_type": "code",
   "execution_count": 23,
   "metadata": {},
   "outputs": [
    {
     "data": {
      "image/png": "[encoded data removed]",
      "text/plain": [
       "<Figure size 576x576 with 2 Axes>"
      ]
     },
     "metadata": {
      "needs_background": "light"
     },
     "output_type": "display_data"
    }
   ],
   "source": [
    "train_loss = history.history['loss']\n",
    "train_acc = history.history['accuracy']\n",
    "\n",
    "epochs_range = range(10)\n",
    "\n",
    "plt.figure(figsize=(8, 8))\n",
    "plt.subplot(1, 2, 1)\n",
    "plt.plot(epochs_range, train_acc, label='Training Accuracy')\n",
    "plt.legend(loc='lower right')\n",
    "plt.title('Training Accuracy')\n",
    "\n",
    "plt.subplot(1, 2, 2)\n",
    "plt.plot(epochs_range, train_loss, label='Training Loss')\n",
    "plt.legend(loc='upper right')\n",
    "plt.title('Training Loss')\n",
    "plt.show()\n"
   ]
  },
  {
   "cell_type": "code",
   "execution_count": 24,
   "metadata": {},
   "outputs": [
    {
     "name": "stdout",
     "output_type": "stream",
     "text": [
      "625/625 [==============================] - 0s 442us/step\n"
     ]
    }
   ],
   "source": [
    "# Detect Anomalies through this\n",
    "reconstructions = autoencoder.predict(test_data)\n",
    "reconstruction_error = np.mean(np.abs(reconstructions - test_data), axis=1)\n",
    "threshold = np.mean(reconstruction_error) + np.std(reconstruction_error)\n",
    "anomalies = np.where(reconstruction_error > threshold, 1, 0)"
   ]
  },
  {
   "cell_type": "code",
   "execution_count": 25,
   "metadata": {},
   "outputs": [
    {
     "name": "stdout",
     "output_type": "stream",
     "text": [
      "(80000, 2)\n"
     ]
    }
   ],
   "source": [
    "print(train_labels.shape)"
   ]
  },
  {
   "cell_type": "code",
   "execution_count": 32,
   "metadata": {},
   "outputs": [
    {
     "name": "stdout",
     "output_type": "stream",
     "text": [
      "Epoch 1/10\n",
      "625/625 [==============================] - 1s 863us/step - loss: 0.2694 - accuracy: 0.8965\n",
      "Epoch 2/10\n",
      "625/625 [==============================] - 1s 863us/step - loss: 0.0707 - accuracy: 0.9875\n",
      "Epoch 3/10\n",
      "625/625 [==============================] - 1s 821us/step - loss: 0.0362 - accuracy: 0.9938\n",
      "Epoch 4/10\n",
      "625/625 [==============================] - 1s 815us/step - loss: 0.0379 - accuracy: 0.9953\n",
      "Epoch 5/10\n",
      "625/625 [==============================] - 1s 821us/step - loss: 0.0216 - accuracy: 0.9961\n",
      "Epoch 6/10\n",
      "625/625 [==============================] - 1s 862us/step - loss: 0.0218 - accuracy: 0.9966\n",
      "Epoch 7/10\n",
      "625/625 [==============================] - 1s 826us/step - loss: 0.0133 - accuracy: 0.9971\n",
      "Epoch 8/10\n",
      "625/625 [==============================] - 1s 819us/step - loss: 0.0103 - accuracy: 0.9970\n",
      "Epoch 9/10\n",
      "625/625 [==============================] - 1s 806us/step - loss: 0.0128 - accuracy: 0.9971\n",
      "Epoch 10/10\n",
      "625/625 [==============================] - 1s 849us/step - loss: 0.0124 - accuracy: 0.9978\n"
     ]
    }
   ],
   "source": [
    "classification = tf.keras.Sequential([\n",
    "    tf.keras.layers.Dense(32, activation='relu', input_shape=(34,)),\n",
    "    tf.keras.layers.Dropout(0.5),\n",
    "    tf.keras.layers.Dense(64, activation='relu'),\n",
    "    tf.keras.layers.Dropout(0.5),\n",
    "    tf.keras.layers.Dense(128, activation='relu'),\n",
    "    tf.keras.layers.Dropout(0.5),\n",
    "    tf.keras.layers.Dense(2, activation='softmax')\n",
    "])\n",
    "\n",
    "classification.compile(optimizer='adam', loss='binary_crossentropy',\n",
    "              metrics=['accuracy'])\n",
    "history = classification.fit(train_data, train_labels, epochs=10,\n",
    "                    batch_size=128, verbose=1)\n"
   ]
  },
  {
   "cell_type": "code",
   "execution_count": 33,
   "metadata": {},
   "outputs": [
    {
     "data": {
      "image/png": "[encoded data removed]",
      "text/plain": [
       "<Figure size 576x576 with 2 Axes>"
      ]
     },
     "metadata": {
      "needs_background": "light"
     },
     "output_type": "display_data"
    }
   ],
   "source": [
    "train_loss = history.history['loss']\n",
    "train_acc = history.history['accuracy']\n",
    "\n",
    "epochs_range = range(10)\n",
    "\n",
    "plt.figure(figsize=(8, 8))\n",
    "plt.subplot(1, 2, 1)\n",
    "plt.plot(epochs_range, train_acc, label='Training Accuracy')\n",
    "plt.legend(loc='lower right')\n",
    "plt.title('Training Accuracy')\n",
    "\n",
    "plt.subplot(1, 2, 2)\n",
    "plt.plot(epochs_range, train_loss, label='Training Loss')\n",
    "plt.legend(loc='upper right')\n",
    "plt.title('Training Loss')\n",
    "plt.show()"
   ]
  },
  {
   "cell_type": "code",
   "execution_count": 34,
   "metadata": {},
   "outputs": [
    {
     "name": "stdout",
     "output_type": "stream",
     "text": [
      "625/625 [==============================] - 0s 283us/step\n"
     ]
    }
   ],
   "source": [
    "predictions = model.predict(test_data)\n",
    "predicted_labels = np.argmax(predictions, axis=1)"
   ]
  },
  {
   "cell_type": "code",
   "execution_count": 35,
   "metadata": {},
   "outputs": [],
   "source": [
    "# Ensembling module\n",
    "# Predictions and Anomalies\n",
    "def majority_voting(labels1, labels2):\n",
    "    # Combine labels using majority voting\n",
    "    combined_labels = np.where((labels1 + labels2) > 1, 1, 0)\n",
    "    return combined_labels\n"
   ]
  },
  {
   "cell_type": "code",
   "execution_count": 43,
   "metadata": {},
   "outputs": [
    {
     "name": "stdout",
     "output_type": "stream",
     "text": [
      "1/1 [==============================] - 0s 16ms/step\n",
      "1/1 [==============================] - 0s 13ms/step\n"
     ]
    },
    {
     "ename": "ValueError",
     "evalue": "operands could not be broadcast together with shapes (1,34) (1,2) ",
     "output_type": "error",
     "traceback": [
      "\u001b[0;31m---------------------------------------------------------------------------\u001b[0m",
      "\u001b[0;31mValueError\u001b[0m                                Traceback (most recent call last)",
      "\u001b[1;32m/Users/abhay/Documents/Security-Architecture-Paper/src/main.ipynb Cell 12\u001b[0m in \u001b[0;36m<cell line: 30>\u001b[0;34m()\u001b[0m\n\u001b[1;32m     <a href='vscode-notebook-cell:/Users/abhay/Documents/Security-Architecture-Paper/src/main.ipynb#X14sZmlsZQ%3D%3D?line=23'>24</a>\u001b[0m     \u001b[39mprint\u001b[39m(\u001b[39m\"\u001b[39m\u001b[39mPredicted label:\u001b[39m\u001b[39m\"\u001b[39m, predicted_label)\n\u001b[1;32m     <a href='vscode-notebook-cell:/Users/abhay/Documents/Security-Architecture-Paper/src/main.ipynb#X14sZmlsZQ%3D%3D?line=24'>25</a>\u001b[0m     \u001b[39mprint\u001b[39m(\u001b[39m\"\u001b[39m\u001b[39mAccuracy:\u001b[39m\u001b[39m\"\u001b[39m, accuracy)\n\u001b[0;32m---> <a href='vscode-notebook-cell:/Users/abhay/Documents/Security-Architecture-Paper/src/main.ipynb#X14sZmlsZQ%3D%3D?line=29'>30</a>\u001b[0m test_random_id(autoencoder, classification, test_data, test_labels)\n",
      "\u001b[1;32m/Users/abhay/Documents/Security-Architecture-Paper/src/main.ipynb Cell 12\u001b[0m in \u001b[0;36mtest_random_id\u001b[0;34m(model1, model2, test_data, test_labels)\u001b[0m\n\u001b[1;32m     <a href='vscode-notebook-cell:/Users/abhay/Documents/Security-Architecture-Paper/src/main.ipynb#X14sZmlsZQ%3D%3D?line=10'>11</a>\u001b[0m predictions2 \u001b[39m=\u001b[39m model2\u001b[39m.\u001b[39mpredict(data)\n\u001b[1;32m     <a href='vscode-notebook-cell:/Users/abhay/Documents/Security-Architecture-Paper/src/main.ipynb#X14sZmlsZQ%3D%3D?line=11'>12</a>\u001b[0m \u001b[39m# Combine the predictions using majority voting\u001b[39;00m\n\u001b[0;32m---> <a href='vscode-notebook-cell:/Users/abhay/Documents/Security-Architecture-Paper/src/main.ipynb#X14sZmlsZQ%3D%3D?line=12'>13</a>\u001b[0m combined_predictions \u001b[39m=\u001b[39m majority_voting(predictions1, predictions2)\n\u001b[1;32m     <a href='vscode-notebook-cell:/Users/abhay/Documents/Security-Architecture-Paper/src/main.ipynb#X14sZmlsZQ%3D%3D?line=13'>14</a>\u001b[0m \u001b[39m# Get the predicted label\u001b[39;00m\n\u001b[1;32m     <a href='vscode-notebook-cell:/Users/abhay/Documents/Security-Architecture-Paper/src/main.ipynb#X14sZmlsZQ%3D%3D?line=14'>15</a>\u001b[0m predicted_label \u001b[39m=\u001b[39m combined_predictions[\u001b[39m0\u001b[39m]\n",
      "\u001b[1;32m/Users/abhay/Documents/Security-Architecture-Paper/src/main.ipynb Cell 12\u001b[0m in \u001b[0;36mmajority_voting\u001b[0;34m(labels1, labels2)\u001b[0m\n\u001b[1;32m      <a href='vscode-notebook-cell:/Users/abhay/Documents/Security-Architecture-Paper/src/main.ipynb#X14sZmlsZQ%3D%3D?line=2'>3</a>\u001b[0m \u001b[39mdef\u001b[39;00m \u001b[39mmajority_voting\u001b[39m(labels1, labels2):\n\u001b[1;32m      <a href='vscode-notebook-cell:/Users/abhay/Documents/Security-Architecture-Paper/src/main.ipynb#X14sZmlsZQ%3D%3D?line=3'>4</a>\u001b[0m     \u001b[39m# Combine labels using majority voting\u001b[39;00m\n\u001b[0;32m----> <a href='vscode-notebook-cell:/Users/abhay/Documents/Security-Architecture-Paper/src/main.ipynb#X14sZmlsZQ%3D%3D?line=4'>5</a>\u001b[0m     combined_labels \u001b[39m=\u001b[39m np\u001b[39m.\u001b[39mwhere((labels1 \u001b[39m+\u001b[39;49m labels2) \u001b[39m>\u001b[39m \u001b[39m1\u001b[39m, \u001b[39m1\u001b[39m, \u001b[39m0\u001b[39m)\n\u001b[1;32m      <a href='vscode-notebook-cell:/Users/abhay/Documents/Security-Architecture-Paper/src/main.ipynb#X14sZmlsZQ%3D%3D?line=5'>6</a>\u001b[0m     \u001b[39mreturn\u001b[39;00m combined_labels\n",
      "\u001b[0;31mValueError\u001b[0m: operands could not be broadcast together with shapes (1,34) (1,2) "
     ]
    }
   ],
   "source": [
    "def test_random_id(model1, model2, test_data, test_labels):\n",
    "    # Choose a random id from the test set\n",
    "    random_id = np.random.randint(0, len(test_data))\n",
    "    # Get the corresponding data and label\n",
    "    data = test_data[random_id]\n",
    "    label = test_labels[random_id]\n",
    "    # Reshape the data to match the input shape of the models\n",
    "    data = data.reshape(1, -1)\n",
    "    # Make predictions using both models\n",
    "    predictions1 = model1.predict(data)\n",
    "    predictions2 = model2.predict(data)\n",
    "    # Combine the predictions using majority voting\n",
    "    combined_predictions = majority_voting(predictions1, predictions2)\n",
    "    # Get the predicted label\n",
    "    predicted_label = combined_predictions[0]\n",
    "    # Check if the prediction matches the true label\n",
    "    if np.all(predicted_label == label):\n",
    "        accuracy = \"Correct\"\n",
    "    else:\n",
    "        accuracy = \"Incorrect\"\n",
    "    # Print the results\n",
    "    print(\"Random ID:\", random_id)\n",
    "    print(\"True label:\", label)\n",
    "    print(\"Predicted label:\", predicted_label)\n",
    "    print(\"Accuracy:\", accuracy)\n",
    "\n",
    "\n",
    "\n",
    "\n",
    "test_random_id(autoencoder, classification, test_data, test_labels)\n"
   ]
  }
 ],
 "metadata": {
  "kernelspec": {
   "display_name": "base",
   "language": "python",
   "name": "python3"
  },
  "language_info": {
   "codemirror_mode": {
    "name": "ipython",
    "version": 3
   },
   "file_extension": ".py",
   "mimetype": "text/x-python",
   "name": "python",
   "nbconvert_exporter": "python",
   "pygments_lexer": "ipython3",
   "version": "3.9.10"
  },
  "orig_nbformat": 4
 },
 "nbformat": 4,
 "nbformat_minor": 2
}
