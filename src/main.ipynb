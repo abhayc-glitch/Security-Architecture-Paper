{
 "cells": [
  {
   "cell_type": "code",
   "execution_count": 40,
   "metadata": {},
   "outputs": [
    {
     "name": "stdout",
     "output_type": "stream",
     "text": [
      "2.10.0\n"
     ]
    }
   ],
   "source": [
    "import tensorflow as tf\n",
    "\n",
    "import matplotlib.pyplot as plt\n",
    "import numpy as np\n",
    "import os\n",
    "import PIL\n",
    "import pandas as pd\n",
    "\n",
    "from tensorflow import keras\n",
    "from tensorflow.keras import layers\n",
    "from tensorflow.keras.models import Sequential\n",
    "from tensorflow.keras.layers import TextVectorization\n",
    "\n",
    "from sklearn.preprocessing import StandardScaler\n",
    "from sklearn.preprocessing import LabelEncoder\n",
    "from sklearn.model_selection import train_test_split\n",
    "\n",
    "from sklearn.decomposition import PCA\n",
    "\n",
    "print(tf.__version__)\n"
   ]
  },
  {
   "cell_type": "code",
   "execution_count": 59,
   "metadata": {},
   "outputs": [
    {
     "name": "stdout",
     "output_type": "stream",
     "text": [
      "(100000, 34)\n",
      "[[-1.68876372e-01 -5.54340676e-01 -8.11903704e-01 ...  2.31709626e-02\n",
      "  -7.54324879e-03 -7.53884861e-03]\n",
      " [-1.68292468e-01  4.12930887e-01 -1.06697105e+00 ...  1.08563311e-02\n",
      "   6.13581491e-03  6.14824686e-03]\n",
      " [ 9.46933952e-01 -4.32876679e-01  1.09476509e+00 ... -4.73149009e-03\n",
      "  -5.70313811e-03 -5.72114279e-03]\n",
      " ...\n",
      " [-1.67777442e-01  1.25838259e+00  1.40367275e-01 ...  1.28778220e-01\n",
      "  -1.26542566e-02 -1.26333616e-02]\n",
      " [-1.68679931e-01 -2.62557519e-01 -3.97314912e-02 ... -5.28132363e-03\n",
      "   6.04010259e-03  6.04800054e-03]\n",
      " [-1.56252695e-01 -1.46406176e+00  6.04317679e-01 ... -3.76137867e-02\n",
      "   2.96027306e-04  2.93465987e-04]]\n"
     ]
    }
   ],
   "source": [
    "\n",
    "# Load the data into a pandas dataframe\n",
    "data_path = \"../data/malware_dataset.csv\"\n",
    "data = pd.read_csv(data_path)\n",
    "\n",
    "# Convert classification column from string values into numerical values\n",
    "# 0 - malware , 1 - benign\n",
    "le = LabelEncoder()\n",
    "data[\"classification\"] = le.fit_transform(data[\"classification\"])\n",
    "\n",
    "# Drop the classification from input data and pass it in as output\n",
    "features = data.drop(columns=[\"classification\"])\n",
    "\n",
    "print(features.shape)\n",
    "\n",
    "# Perform PCA to reduce dimensionaliy\n",
    "# ty\n",
    "pca = PCA(n_components=34)\n",
    "features = pca.fit_transform(features)\n",
    "\n",
    "# Normalize features\n",
    "# Mean of 0 and Standard deviation of 1 to highlight large features\n",
    "scaler = StandardScaler()\n",
    "features = scaler.fit_transform(features)\n",
    "\n",
    "# Split into training and testing sets\n",
    "train_data, test_data, train_labels, test_labels = train_test_split(\n",
    "    features, data[\"classification\"], test_size=0.2, random_state=42)\n",
    "\n",
    "\n",
    "\n"
   ]
  },
  {
   "cell_type": "code",
   "execution_count": 47,
   "metadata": {},
   "outputs": [
    {
     "name": "stdout",
     "output_type": "stream",
     "text": [
      "Model: \"model\"\n",
      "_________________________________________________________________\n",
      " Layer (type)                Output Shape              Param #   \n",
      "=================================================================\n",
      " input_2 (InputLayer)        [(None, 34)]              0         \n",
      "                                                                 \n",
      " dense_2 (Dense)             (None, 64)                2240      \n",
      "                                                                 \n",
      " dense_3 (Dense)             (None, 32)                2080      \n",
      "                                                                 \n",
      " dense_4 (Dense)             (None, 32)                1056      \n",
      "                                                                 \n",
      " dense_5 (Dense)             (None, 32)                1056      \n",
      "                                                                 \n",
      " dense_6 (Dense)             (None, 64)                2112      \n",
      "                                                                 \n",
      " dense_7 (Dense)             (None, 34)                2210      \n",
      "                                                                 \n",
      "=================================================================\n",
      "Total params: 10,754\n",
      "Trainable params: 10,754\n",
      "Non-trainable params: 0\n",
      "_________________________________________________________________\n"
     ]
    }
   ],
   "source": [
    "# PCA \"n_components\" output\n",
    "input_dim = 34\n",
    "\n",
    "input_layer = tf.keras.layers.Input(shape=(input_dim,))\n",
    "encoder = tf.keras.layers.Dense(64, activation='relu')(input_layer)\n",
    "encoder = tf.keras.layers.Dense(32, activation='relu')(encoder)\n",
    "encoder = tf.keras.layers.Dense(32, activation='relu')(encoder)\n",
    "\n",
    "# Build decoder network\n",
    "decoder = tf.keras.layers.Dense(32, activation='relu')(encoder)\n",
    "decoder = tf.keras.layers.Dense(64, activation='relu')(decoder)\n",
    "decoder = tf.keras.layers.Dense(input_dim, activation='linear')(decoder)\n",
    "\n",
    "# Combine encoder and decoder into autoencoder\n",
    "autoencoder = tf.keras.models.Model(inputs=input_layer, outputs=decoder)\n",
    "\n",
    "autoencoder.summary()\n"
   ]
  },
  {
   "cell_type": "code",
   "execution_count": 49,
   "metadata": {},
   "outputs": [
    {
     "name": "stdout",
     "output_type": "stream",
     "text": [
      "Epoch 1/10\n"
     ]
    },
    {
     "name": "stderr",
     "output_type": "stream",
     "text": [
      "2023-04-13 10:57:06.936458: W tensorflow/core/platform/profile_utils/cpu_utils.cc:128] Failed to get CPU frequency: 0 Hz\n"
     ]
    },
    {
     "name": "stdout",
     "output_type": "stream",
     "text": [
      "625/625 [==============================] - 1s 808us/step - loss: 0.7732 - accuracy: 0.4413\n",
      "Epoch 2/10\n",
      "625/625 [==============================] - 1s 818us/step - loss: 0.5935 - accuracy: 0.5703\n",
      "Epoch 3/10\n",
      "625/625 [==============================] - 1s 801us/step - loss: 0.5312 - accuracy: 0.6810\n",
      "Epoch 4/10\n",
      "625/625 [==============================] - 0s 797us/step - loss: 0.4737 - accuracy: 0.7453\n",
      "Epoch 5/10\n",
      "625/625 [==============================] - 1s 1ms/step - loss: 0.4668 - accuracy: 0.7672\n",
      "Epoch 6/10\n",
      "625/625 [==============================] - 1s 806us/step - loss: 0.4278 - accuracy: 0.7726\n",
      "Epoch 7/10\n",
      "625/625 [==============================] - 0s 786us/step - loss: 0.4025 - accuracy: 0.7703\n",
      "Epoch 8/10\n",
      "625/625 [==============================] - 1s 808us/step - loss: 0.3611 - accuracy: 0.7936\n",
      "Epoch 9/10\n",
      "625/625 [==============================] - 0s 799us/step - loss: 0.3442 - accuracy: 0.8055\n",
      "Epoch 10/10\n",
      "625/625 [==============================] - 0s 799us/step - loss: 0.3196 - accuracy: 0.8034\n"
     ]
    }
   ],
   "source": [
    "autoencoder.compile(optimizer='adam', loss='mse', metrics=['accuracy'])\n",
    "history = autoencoder.fit(train_data, train_data, epochs=10,\n",
    "                batch_size=128, verbose=1)"
   ]
  },
  {
   "cell_type": "code",
   "execution_count": 55,
   "metadata": {},
   "outputs": [
    {
     "data": {
      "image/png": "[encoded data removed]",
      "text/plain": [
       "<Figure size 576x576 with 2 Axes>"
      ]
     },
     "metadata": {
      "needs_background": "light"
     },
     "output_type": "display_data"
    }
   ],
   "source": [
    "train_loss = history.history['loss']\n",
    "train_acc = history.history['accuracy']\n",
    "\n",
    "epochs_range = range(10)\n",
    "\n",
    "plt.figure(figsize=(8, 8))\n",
    "plt.subplot(1, 2, 1)\n",
    "plt.plot(epochs_range, train_acc, label='Training Accuracy')\n",
    "plt.legend(loc='lower right')\n",
    "plt.title('Training Accuracy')\n",
    "\n",
    "plt.subplot(1, 2, 2)\n",
    "plt.plot(epochs_range, train_loss, label='Training Loss')\n",
    "plt.legend(loc='upper right')\n",
    "plt.title('Training Loss')\n",
    "plt.show()\n"
   ]
  },
  {
   "cell_type": "code",
   "execution_count": null,
   "metadata": {},
   "outputs": [],
   "source": [
    "# Detect Anomalies through this\n",
    "reconstructions = autoencoder.predict(test_data)\n",
    "reconstruction_error = np.mean(np.abs(reconstructions - test_data), axis=1)\n",
    "threshold = np.mean(reconstruction_error) + np.std(reconstruction_error)\n",
    "anomalies = np.where(reconstruction_error > threshold, 1, 0)"
   ]
  },
  {
   "cell_type": "code",
   "execution_count": null,
   "metadata": {},
   "outputs": [],
   "source": [
    "model = tf.keras.Sequential([\n",
    "    tf.keras.layers.Conv2D(32, (3, 3), activation='relu',\n",
    "                           input_shape=34),\n",
    "    tf.keras.layers.MaxPooling2D((2, 2)),\n",
    "    tf.keras.layers.Conv2D(64, (3, 3), activation='relu'),\n",
    "    tf.keras.layers.MaxPooling2D((2, 2)),\n",
    "    tf.keras.layers.Flatten(),\n",
    "    tf.keras.layers.Dense(64, activation='relu'),\n",
    "    tf.keras.layers.Dense(2, activation='sigmoid')\n",
    "])\n",
    "\n",
    "model.summary()\n",
    "\n",
    "model.compile(optimizer='adam',\n",
    "              loss='binary_categorical_crossentropy', metrics=['accuracy'])\n",
    "history = model.fit(train_data, train_labels, epochs=10, batch_size=128, verbose=1)\n"
   ]
  },
  {
   "cell_type": "code",
   "execution_count": null,
   "metadata": {},
   "outputs": [],
   "source": [
    "train_loss = history.history['loss']\n",
    "train_acc = history.history['accuracy']\n",
    "\n",
    "epochs_range = range(10)\n",
    "\n",
    "plt.figure(figsize=(8, 8))\n",
    "plt.subplot(1, 2, 1)\n",
    "plt.plot(epochs_range, train_acc, label='Training Accuracy')\n",
    "plt.legend(loc='lower right')\n",
    "plt.title('Training Accuracy')\n",
    "\n",
    "plt.subplot(1, 2, 2)\n",
    "plt.plot(epochs_range, train_loss, label='Training Loss')\n",
    "plt.legend(loc='upper right')\n",
    "plt.title('Training Loss')\n",
    "plt.show()"
   ]
  },
  {
   "cell_type": "code",
   "execution_count": null,
   "metadata": {},
   "outputs": [],
   "source": [
    "predictions = model.predict(test_data)\n",
    "predicted_labels = np.argmax(predictions, axis=1)"
   ]
  },
  {
   "cell_type": "code",
   "execution_count": null,
   "metadata": {},
   "outputs": [],
   "source": [
    "# Ensembling module\n",
    "# Predictions and Anomalies\n",
    "def majority_voting(labels1, labels2):\n",
    "    # Combine labels using majority voting\n",
    "    combined_labels = np.where((labels1 + labels2) > 1, 1, 0)\n",
    "    return combined_labels\n"
   ]
  }
 ],
 "metadata": {
  "kernelspec": {
   "display_name": "base",
   "language": "python",
   "name": "python3"
  },
  "language_info": {
   "codemirror_mode": {
    "name": "ipython",
    "version": 3
   },
   "file_extension": ".py",
   "mimetype": "text/x-python",
   "name": "python",
   "nbconvert_exporter": "python",
   "pygments_lexer": "ipython3",
   "version": "3.9.10"
  },
  "orig_nbformat": 4
 },
 "nbformat": 4,
 "nbformat_minor": 2
}
